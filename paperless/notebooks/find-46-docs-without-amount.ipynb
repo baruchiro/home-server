{
 "cells": [
  {
   "cell_type": "code",
   "execution_count": 1,
   "metadata": {},
   "outputs": [],
   "source": [
    "import requests\n",
    "import urllib.parse"
   ]
  },
  {
   "cell_type": "code",
   "execution_count": 2,
   "metadata": {},
   "outputs": [],
   "source": [
    "# Replace with your actual API URL and token\n",
    "API_URL = \"https://paperless.baruchiro.online/api\"\n",
    "API_TOKEN = \"\"\n",
    "\n",
    "HEADERS = {\n",
    "    \"Authorization\": f\"Token {API_TOKEN}\",\n",
    "    \"Content-Type\": \"application/json\"\n",
    "}"
   ]
  },
  {
   "cell_type": "code",
   "execution_count": 3,
   "metadata": {},
   "outputs": [],
   "source": [
    "def send_request(method, endpoint, params):\n",
    "    response = requests.request(method, f\"{API_URL}/{endpoint}\", headers=HEADERS, params=params)\n",
    "    print(response.url)\n",
    "    response.raise_for_status()\n",
    "    return response.json()"
   ]
  },
  {
   "cell_type": "code",
   "execution_count": 4,
   "metadata": {},
   "outputs": [
    {
     "name": "stdout",
     "output_type": "stream",
     "text": [
      "https://paperless.baruchiro.online/api/documents/?tags__name__iexact=46&custom_field_query=%5B%22%D7%A1%D7%9B%D7%95%D7%9D%22%2C+%22exists%22%2C+false%5D\n"
     ]
    },
    {
     "data": {
      "text/plain": [
       "{'count': 0, 'next': None, 'previous': None, 'all': [], 'results': []}"
      ]
     },
     "execution_count": 4,
     "metadata": {},
     "output_type": "execute_result"
    }
   ],
   "source": [
    "send_request('GET', 'documents/', { 'tags__name__iexact': '46', 'custom_field_query': '[\"סכום\", \"exists\", false]' })\n"
   ]
  },
  {
   "cell_type": "code",
   "execution_count": 5,
   "metadata": {},
   "outputs": [
    {
     "name": "stdout",
     "output_type": "stream",
     "text": [
      "https://paperless.baruchiro.online/api/documents/?tags__name__iexact=46&custom_field_query=%5B%22%D7%A1%D7%9B%D7%95%D7%9D%22%2C+%22isnull%22%2C+true%5D\n"
     ]
    },
    {
     "data": {
      "text/plain": [
       "{'count': 5,\n",
       " 'next': None,\n",
       " 'previous': None,\n",
       " 'all': [302, 301, 273, 164, 170],\n",
       " 'results': [{'id': 302,\n",
       "   'correspondent': None,\n",
       "   'document_type': 5,\n",
       "   'storage_path': None,\n",
       "   'title': 'להושיט יד - הצלת טנא',\n",
       "   'content': '\\u202bעמותת להושיט יד\\u202c\\n\\u202bתמיכה וסיוע בילדים חולי סרטן וסי\\u202a.\\u202cפי\\u202a.\\u202c\\u202c\\n\\u202bעמותה \\u202a580457232\\u202c\\u202c \\u202b\\u202a07/12/2024\\u202c\\u202c\\n\\u202bמרכז רימון\\u202a ,\\u202cשמעון בן שטח \\u202a 10\\u202cת\\u202a.\\u202cד\\u202a80 .\\u202c\\u202c \\u202bלכבוד\\u202a :\\u202cזהר אודם\\u202c\\n\\u202b\\u202a ,2\\u202cאלעד\\u202c \\u202b\\u202a0507242574\\u202c\\u202c\\n\\u202b\\u202a039090500\\u202c\\u202c\\n\\u202b\\u202ainfo@l-yad.org\\u202c\\u202c\\n\\n\\n\\u202bקבלה\\u202c\\n\\u202bסה\"כ לתשלום \\u202a315.00\\u202c\\u202c \\u202b\\u202a50200631\\u202c\\u202c\\n\\u202b\\u202a₪\\u202c\\u202c \\u202bמקור\\u202c\\n\\n\\n\\n\\u202bפרטי תשלומים\\u202c\\n\\n\\u202bסכום\\u202c \\u202bתאריך\\u202c \\u202bפירוט\\u202c \\u202bאמצעי תשלום\\u202c\\n\\n\\n\\u202b\\u202a₪315.00\\u202c\\u202c \\u202b\\u202a07/12/2024\\u202c\\u202c \\u202b\\u202aBit\\u202c\\u202c\\n\\n\\u202bסה\"כ\\u202c\\n\\n\\u202b\\u202a₪315.00\\u202c\\u202c\\n\\n\\n\\n\\n\\u202bקבלה עבור תודה על תרומתך להצלת טנא\\u202c\\n\\n\\u202bלמוסד אישור מס הכנסה לפי סעיף \\u202a 46\\u202cלפקודה\\u202c\\n\\n\\n\\n\\n\\u202bקבלה \\u202a 50200631\\u202cעמוד \\u202a 1\\u202cמתוך \\u202a1\\u202c\\u202c',\n",
       "   'tags': [6, 7],\n",
       "   'created': '2024-12-07T00:00:00+02:00',\n",
       "   'created_date': '2024-12-07',\n",
       "   'modified': '2024-12-08T14:27:39.115050+02:00',\n",
       "   'added': '2024-12-07T23:00:07.517583+02:00',\n",
       "   'deleted_at': None,\n",
       "   'archive_serial_number': None,\n",
       "   'original_file_name': 'הורדה.pdf',\n",
       "   'archived_file_name': '2024-12-07 להושיט יד - הצלת טנא.pdf',\n",
       "   'owner': None,\n",
       "   'user_can_change': True,\n",
       "   'is_shared_by_requester': False,\n",
       "   'notes': [],\n",
       "   'custom_fields': [{'value': None, 'field': 1}],\n",
       "   'page_count': 1},\n",
       "  {'id': 301,\n",
       "   'correspondent': 10,\n",
       "   'document_type': 5,\n",
       "   'storage_path': None,\n",
       "   'title': 'שיעור נפש החיים',\n",
       "   'content': '\\u202bתנועת אורי ע\\u202a.\\u202cר\\u202a580636850 .\\u202c\\u202c\\n\\u202bדרך האילנות \\u202a 30\\u202cגדרה\\u202c\\n\\n\\n\\n\\u202b\\u202aorigederam@gmail.com\\u202c\\u202c\\n\\n\\u202bד כסלו התשפ\"ה\\u202c\\n\\u202b\\u202a05/12/2024\\u202c\\u202c\\n\\u202bקבלה תרומה \\u202a 54336\\u202cמקור\\u202c\\n\\u202bח\\u202a.\\u202cפ\\u202a:.\\u202c\\u202c \\u202bלכבוד\\u202c\\n\\u202bטל\\'\\u202a:\\u202c\\u202c \\u202bלידי\\u202a:\\u202c\\u202c \\u202bאודם ברוך\\u202c\\n\\u202bפקס\\'\\u202a:\\u202c\\u202c\\n\\u202bנייד\\u202a0528109242 :\\u202c\\u202c \\u202b\\u202abaruchiro@gmail.com :Email\\u202c\\u202c \\u202b\\u202a0\\u202c\\u202c\\n\\n\\n\\n\\n\\u202bהערה\\u202c \\u202bסה\"כ לפריט\\u202c \\u202bמחיר ליחידה\\u202c \\u202bכמות\\u202c \\u202b\\u202a #\\u202cפריט\\u202c\\n\\u202b\\u202a₪ 920.00\\u202c\\u202c \\u202b\\u202a₪ 920.00\\u202c\\u202c \\u202b\\u202a1\\u202c\\u202c \\u202bתרומה לבית הכנסת הקהילתי\\u202c \\u202b\\u202a1\\u202c\\u202c\\n\\n\\n\\u202b\\u202a10673\\u202c\\u202c \\u202bסה\"כ \\u202a₪ 920.00\\u202c\\u202c\\n\\n\\u202bתשלומים שהתקבלו\\u202a:\\u202c\\u202c\\n\\u202bסכום\\u202c \\u202bתאריך\\u202c \\u202bאסמכתא\\u202c \\u202bבנק\\u202c \\u202bסניף\\u202c \\u202bחשבון\\u202c \\u202bאמצעי תשלום\\u202c \\u202b\\u202a#\\u202c\\u202c\\n\\u202b\\u202a₪ 920.00\\u202c\\u202c \\u202b\\u202a05/12/2024\\u202c\\u202c \\u202b\\u202a7432\\u202c\\u202c \\u202bישראכרט\\u202c \\u202b\\u202a1\\u202c\\u202c\\n\\n\\u202b\\u202a₪ 920.00\\u202c\\u202c \\u202bסה\"כ\\u202c\\n\\n\\n\\u202bתרומה לבית הכנסת הקהילתי\\u202a -\\u202cשכונת גולדה גדרה\\u202c\\n\\n\\n\\n\\n\\u202bלמוסד אישור מס הכנסה לענייני תרומות\\u202a ,\\u202cלפי סעיף \\u202a46\\u202cא לפקודה\\u202c\\n\\u202bמס\\' אישור \\u202a580636850\\u202c\\u202c\\n\\n\\n\\n\\n\\u202bהופק באמצעות תקציבית \\u202awww.taktzivit.co.il\\u202c\\u202c',\n",
       "   'tags': [6, 7],\n",
       "   'created': '2024-12-05T00:00:00+02:00',\n",
       "   'created_date': '2024-12-05',\n",
       "   'modified': '2024-12-08T14:28:14.853235+02:00',\n",
       "   'added': '2024-12-05T12:20:06.690046+02:00',\n",
       "   'deleted_at': None,\n",
       "   'archive_serial_number': None,\n",
       "   'original_file_name': 'Doc_15203.pdf',\n",
       "   'archived_file_name': '2024-12-05 תנועת אורי שיעור נפש החיים.pdf',\n",
       "   'owner': None,\n",
       "   'user_can_change': True,\n",
       "   'is_shared_by_requester': False,\n",
       "   'notes': [],\n",
       "   'custom_fields': [{'value': None, 'field': 1}],\n",
       "   'page_count': 1},\n",
       "  {'id': 273,\n",
       "   'correspondent': 10,\n",
       "   'document_type': 5,\n",
       "   'storage_path': None,\n",
       "   'title': 'קבלה תרומה עבור תשלום לתנועת אורי',\n",
       "   'content': '\\u202bתנוע ת אור י\\u202c\\n\\u202bמאירים א ת ה מו ש בה\\u202c\\n\\n\\n\\n\\u202bמקור\\u202c \\u202bקב לה תרומה מ ס ’ \\u202a- 901436\\u202c\\u202c\\n\\u202b\\u202a11/11/2024\\u202c\\u202c \\u202bמסמך ממוחשב\\u202c\\n\\u202bמוס ד צי בורי \\u202a /\\u202cמלכר מס\\' \\u202a.580636850\\u202cלמוס ד אישור מס הכנסה לעניין תרומות לפי סעיף \\u202a 46\\u202cלפקו דה\\u202c\\n\\n\\n\\n\\u202bלכבוד \\u202a:\\u202c\\u202c\\n\\u202bע\\u202a.\\u202cמ\\u202a/\\u202cת\\u202a.\\u202cז\\u202a311603252 :\\u202c\\u202c\\n\\u202bברוך או דם\\u202c\\n\\n\\n\\n\\u202bסה \"\"כ\\u202c \\u202bמחיר\\u202c \\u202bכמות\\u202c \\u202bפירוט\\u202c\\n\\u202b\\u202a700.00\\u202c\\u202c \\u202b\\u202a700.00\\u202c\\u202c \\u202b\\u202a1\\u202c\\u202c \\u202bהוראת קבע \\u202a373008 -\\u202c\\u202c\\n\\u202b\\u202a0.00\\u202c\\u202c \\u202bמע\"מ \\u202a0%\\u202c\\u202c\\n\\u202b\\u202a₪700.00\\u202c\\u202c \\u202bסה\"כ לתשלום\\u202c\\n\\n\\n\\n\\u202bשולם בכרטיס יורוקר ד מסטרקר ד שמסתיים בספרות\\u202a7432 :\\u202c\\u202c\\n\\u202bאישור חב’ האשראי\\u202a3274480 :\\u202c\\u202c\\n\\u202bאסמכתא\\u202a232445151 :\\u202c\\u202c\\n\\u202bסוג אשראי\\u202a :\\u202cרגיל\\u202c\\n\\n\\n\\n\\n\\u202b\\u202a | 0507774674\\u202cע\\u202a.\\u202cר\\u202a580636850 :\\u202c\\u202c\\n\\n\\n\\u202bהופק ע\"י הייפ פתרונות תשלום בע\"מ\\u202c\\n\\u202bסליקת כרטיסי אשראי וחש בוניות אלקטרוניות\\u202a.\\u202c\\u202c',\n",
       "   'tags': [6, 7],\n",
       "   'created': '2024-11-11T00:00:00+02:00',\n",
       "   'created_date': '2024-11-11',\n",
       "   'modified': '2024-12-08T19:33:39.616626+02:00',\n",
       "   'added': '2024-11-11T05:50:07.075936+02:00',\n",
       "   'deleted_at': None,\n",
       "   'archive_serial_number': None,\n",
       "   'original_file_name': 'Invoice_901436.pdf',\n",
       "   'archived_file_name': '2024-11-11 תנועת אורי קבלה תרומה עבור תשלום לתנועת אורי.pdf',\n",
       "   'owner': None,\n",
       "   'user_can_change': True,\n",
       "   'is_shared_by_requester': False,\n",
       "   'notes': [],\n",
       "   'custom_fields': [{'value': None, 'field': 1}],\n",
       "   'page_count': 1},\n",
       "  {'id': 164,\n",
       "   'correspondent': None,\n",
       "   'document_type': 5,\n",
       "   'storage_path': None,\n",
       "   'title': '30-05-2022',\n",
       "   'content': '\\u202b\\u202a30/05/2022\\u202c\\u202c \\u202bכ\"ט אייר תשפ\"ב\\u202c\\n\\u202bלכבוד\\u202c\\n\\u202bברוך אודם\\u202c\\n\\n\\n\\u202b\\u202abaruchiro@gmail.com\\u202c\\u202c\\n\\n\\n\\u202bה\\u202a\\uf8ff\\uf8ff\\u202cו להודות למעלת כבודכם על תרומתכם ה\\u202a\\uf8ff\\u202cכבדה\\u202a ,\\u202cעל ידי \"מרכז הצדקה\" בפיקוח ו\\u202a\\uf8ff\\u202cשיאות הרב\\u202a\\uf8ff\\u202cים שליט\"א\\u202a.\\u202c\\u202c\\n\\u202bתרומתכם המיועדת היא לעזר רב ל\\u202a\\uf8ff\\u202cצרכים ולמשיב \\u202a\\uf8ff\\u202cפש\\u202a.\\u202c\\u202c\\n\\u202b\"מרכז הצדקה\" הוקם על ידי הרב\\u202a\\uf8ff\\u202cים הגאו\\u202a\\uf8ff\\u202cים בכדי לקיים את רצו\\u202a\\uf8ff\\u202cכם ולקיים את מצוות הצדקה למטרות \\u202a\\uf8ff\\u202cעלות\\u202c\\n\\u202bומיוחדות בפיקוח הדוק ומלא\\u202a ,\\u202cובכדי שתוכלו להיות סמוכים ובטוחים כי צדקתכם הגיע ליעדה ופעלה את\\u202c\\n\\u202bפעולתה\\u202a ,\\u202cבצורה הראויה\\u202a.\\u202c\\u202c\\n\\u202bתרומתכם ה\\u202a\\uf8ff\\u202cכבדה עוברת ליעדה בפיקוחם של גדולי הרב\\u202a\\uf8ff\\u202cים שליט\"א\\u202a ,\\u202cואין ספק כי הייתם לעזר רב וזכותכם\\u202c\\n\\u202bגדולה מאוד\\u202a.\\u202c\\u202c\\n\\n\\u202bברכות שמים יחולו על ראשכם\\u202a ,\\u202cוברכות הטוב השמורות לעושי הצדקה והחסד ירעיפו עליכם ברכות שמים מעל\\u202a,\\u202c\\u202c\\n\\u202bותזכו יחד עם ב\\u202a\\uf8ff\\u202cי משפחתכם לבריאות \\u202a\\uf8ff\\u202cחת והרחבה\\u202a ,\\u202cלאורך ימים\\u202a.\\u202c\\u202c\\n\\n\\n\\n\\u202bמקור\\u202c \\u202b\\u202a722242\\u202c\\u202c\\n\\n\\n\\u202bברוך אודם\\u202c\\n\\n\\n\\u202bעבור מס\\' קרן \\u202a - 3841\\u202cתקווה לחיים\\u202c\\n\\n\\u202bחמש מאות ש\"ח\\u202c \\u202b\\u202a₪ 500.00\\u202c\\u202c\\n\\n\\u202bאשראי\\u202c\\n\\n\\n\\u202bפרטים\\u202c \\u202bאסמכתא\\u202c \\u202bתאריך עברי\\u202c \\u202bתאריך ערך\\u202c \\u202bסך תרומה\\u202c\\n\\u202b\\u202a6942\\u202c\\u202c \\u202bכ\"ח אייר תשפ\"ב\\u202c \\u202b\\u202a29/05/2022\\u202c\\u202c \\u202b\\u202a₪ 500.00\\u202c\\u202c\\n\\n\\n\\n\\n\\u202b\\u202a30/05/2022\\u202c\\u202c \\u202bתאריך\\u202a :\\u202cכ\"ט אייר תשפ\"ב\\u202c',\n",
       "   'tags': [6, 7],\n",
       "   'created': '2022-05-29T00:00:00+03:00',\n",
       "   'created_date': '2022-05-29',\n",
       "   'modified': '2024-10-27T07:33:06.881025+02:00',\n",
       "   'added': '2024-07-17T08:33:22.072719+03:00',\n",
       "   'deleted_at': None,\n",
       "   'archive_serial_number': None,\n",
       "   'original_file_name': '30-05-2022.pdf',\n",
       "   'archived_file_name': '2022-05-29 30-05-2022.pdf',\n",
       "   'owner': 3,\n",
       "   'user_can_change': True,\n",
       "   'is_shared_by_requester': False,\n",
       "   'notes': [],\n",
       "   'custom_fields': [{'value': None, 'field': 1}],\n",
       "   'page_count': 1},\n",
       "  {'id': 170,\n",
       "   'correspondent': 10,\n",
       "   'document_type': 5,\n",
       "   'storage_path': None,\n",
       "   'title': 'מתנות לאביונים',\n",
       "   'content': '\\u202bתנועת אורי ע\\u202a.\\u202cר\\u202a580636850 .\\u202c\\u202c\\n\\u202bדרך האילנות \\u202a 30\\u202cגדרה\\u202c\\n\\n\\n\\n\\n\\u202bיא אדר ב התשפ\"ב\\u202c\\n\\u202b\\u202a14/03/2022\\u202c\\u202c\\n\\u202bקבלה תרומה \\u202a 30864\\u202cמקור\\u202c\\n\\u202bח\\u202a.\\u202cפ\\u202a:.\\u202c\\u202c \\u202bלכבוד\\u202c\\n\\u202bטל\\'\\u202a:\\u202c\\u202c \\u202bלידי\\u202a:\\u202c\\u202c \\u202bאודם ברוך\\u202c\\n\\u202bפקס\\'\\u202a:\\u202c\\u202c\\n\\u202bנייד\\u202a0528109242 :\\u202c\\u202c \\u202b\\u202abaruchiro@gmail.com :Email\\u202c\\u202c \\u202b\\u202a0\\u202c\\u202c\\n\\n\\n\\n\\u202bהערה\\u202c \\u202bסה\"כ לפריט\\u202c \\u202bמחיר ליחידה\\u202c \\u202bכמות\\u202c \\u202b\\u202a #\\u202cפריט\\u202c\\n\\u202b\\u202a₪ 120.00\\u202c\\u202c \\u202b\\u202a₪ 120.00\\u202c\\u202c \\u202b\\u202a1\\u202c\\u202c \\u202bארגז מתנות לאביונים\\u202c \\u202b\\u202a1\\u202c\\u202c\\n\\n\\n\\u202b\\u202a10673\\u202c\\u202c \\u202bסה\"כ \\u202a₪ 120.00\\u202c\\u202c\\n\\n\\u202bתשלומים שהתקבלו\\u202a:\\u202c\\u202c\\n\\u202bסכום\\u202c \\u202bתאריך\\u202c \\u202bאסמכתא\\u202c \\u202bבנק\\u202c \\u202bסניף\\u202c \\u202bחשבון\\u202c \\u202bאמצעי תשלום\\u202c \\u202b\\u202a#\\u202c\\u202c\\n\\u202b\\u202a₪ 120.00\\u202c\\u202c \\u202b\\u202a12/03/2022\\u202c\\u202c \\u202b\\u202a6942\\u202c\\u202c \\u202bישראכרט\\u202c \\u202b\\u202a1\\u202c\\u202c\\n\\n\\u202b\\u202a₪ 120.00\\u202c\\u202c \\u202bסה\"כ\\u202c\\n\\n\\n\\u202bחוגגים פורים בגדרה\\u202c\\n\\n\\n\\n\\n\\u202bלמוסד אישור מס הכנסה לענייני תרומות\\u202a ,\\u202cלפי סעיף \\u202a46\\u202cא לפקודה\\u202c\\n\\u202bמס\\' אישור \\u202a580636850\\u202c\\u202c\\n\\n\\n\\n\\n\\u202bהופק באמצעות תקציבית \\u202awww.taktzivit.co.il\\u202c\\u202c',\n",
       "   'tags': [6, 7],\n",
       "   'created': '2022-03-12T00:00:00+02:00',\n",
       "   'created_date': '2022-03-12',\n",
       "   'modified': '2024-10-27T07:33:07.025325+02:00',\n",
       "   'added': '2024-07-17T08:34:08.486576+03:00',\n",
       "   'deleted_at': None,\n",
       "   'archive_serial_number': None,\n",
       "   'original_file_name': '22-03-2022.pdf',\n",
       "   'archived_file_name': '2022-03-12 תנועת אורי מתנות לאביונים.pdf',\n",
       "   'owner': 3,\n",
       "   'user_can_change': True,\n",
       "   'is_shared_by_requester': False,\n",
       "   'notes': [],\n",
       "   'custom_fields': [{'value': None, 'field': 1}],\n",
       "   'page_count': 1}]}"
      ]
     },
     "execution_count": 5,
     "metadata": {},
     "output_type": "execute_result"
    }
   ],
   "source": [
    "send_request('GET', 'documents/', { 'tags__name__iexact': '46', 'custom_field_query': '[\"סכום\", \"isnull\", true]' })\n"
   ]
  }
 ],
 "metadata": {
  "kernelspec": {
   "display_name": "Python 3",
   "language": "python",
   "name": "python3"
  },
  "language_info": {
   "codemirror_mode": {
    "name": "ipython",
    "version": 3
   },
   "file_extension": ".py",
   "mimetype": "text/x-python",
   "name": "python",
   "nbconvert_exporter": "python",
   "pygments_lexer": "ipython3",
   "version": "3.9.6"
  }
 },
 "nbformat": 4,
 "nbformat_minor": 2
}
